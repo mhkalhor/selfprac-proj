{
 "cells": [
  {
   "cell_type": "code",
   "execution_count": 1,
   "id": "5f5b30d7-3fcb-4fed-8e6d-c26c907172e2",
   "metadata": {
    "tags": []
   },
   "outputs": [],
   "source": [
    "import pandas as pd\n",
    "import numpy as np"
   ]
  },
  {
   "cell_type": "code",
   "execution_count": 2,
   "id": "897cbafe-1b0e-4272-902e-ca964bd882cd",
   "metadata": {
    "tags": []
   },
   "outputs": [],
   "source": [
    "data = pd.read_excel('Documents/DivarTask/Summer Camp Task Data.xlsx')"
   ]
  },
  {
   "cell_type": "code",
   "execution_count": 3,
   "id": "f7f0b448-a175-4022-8bf5-818cf47acaa7",
   "metadata": {},
   "outputs": [],
   "source": [
    "def tok(str):\n",
    "    str = str.replace('[','')\n",
    "    str = str.replace(']','')\n",
    "    tokens = str.split(',')\n",
    "    return tokens"
   ]
  },
  {
   "cell_type": "code",
   "execution_count": 4,
   "id": "d26f8548-e673-4b47-8150-a0d10187d859",
   "metadata": {},
   "outputs": [],
   "source": [
    "filtered = data.loc[data['post_page_offset'] == 0].reset_index()\n",
    "numb_ads = filtered['tokens'].apply(tok).apply(len)"
   ]
  },
  {
   "cell_type": "code",
   "execution_count": 5,
   "id": "4616bcc6-ee05-4f6a-af2d-8371369a0df2",
   "metadata": {},
   "outputs": [
    {
     "data": {
      "text/plain": [
       "1190"
      ]
     },
     "execution_count": 5,
     "metadata": {},
     "output_type": "execute_result"
    }
   ],
   "source": [
    "numb_dark = len(numb_ads[numb_ads < 10])\n",
    "numb_dark"
   ]
  },
  {
   "cell_type": "code",
   "execution_count": 6,
   "id": "1b054b55-f693-4b45-b0df-640c592ad7db",
   "metadata": {},
   "outputs": [
    {
     "data": {
      "text/plain": [
       "14296"
      ]
     },
     "execution_count": 6,
     "metadata": {},
     "output_type": "execute_result"
    }
   ],
   "source": [
    "numb_query = data.source_event_id.unique().size\n",
    "numb_query"
   ]
  },
  {
   "cell_type": "code",
   "execution_count": 7,
   "id": "c648cc5e-1f3b-4238-91d1-a466b5981320",
   "metadata": {},
   "outputs": [
    {
     "data": {
      "text/plain": [
       "0.08324006715165082"
      ]
     },
     "execution_count": 7,
     "metadata": {},
     "output_type": "execute_result"
    }
   ],
   "source": [
    "dark_query_percent = numb_dark/numb_query\n",
    "dark_query_percent"
   ]
  },
  {
   "cell_type": "code",
   "execution_count": 8,
   "id": "8c5b2e54-d2bc-4aab-9691-65e210161410",
   "metadata": {},
   "outputs": [],
   "source": [
    "load_post_query = set(data[data['action'] == 'load_post_page']['source_event_id'].unique())\n",
    "click_post_query = set(data[data['action'] == 'click_post']['source_event_id'].unique())"
   ]
  },
  {
   "cell_type": "code",
   "execution_count": 9,
   "id": "6c6633ef-1ebc-44b7-92cb-8489376b9a3d",
   "metadata": {},
   "outputs": [
    {
     "data": {
      "text/plain": [
       "3476"
      ]
     },
     "execution_count": 9,
     "metadata": {},
     "output_type": "execute_result"
    }
   ],
   "source": [
    "unclicked = list(load_post_query-click_post_query)\n",
    "numb_unclicked = len(unclicked)\n",
    "numb_unclicked"
   ]
  },
  {
   "cell_type": "code",
   "execution_count": 10,
   "id": "fcc5d777-e8e6-46f5-b7ea-d388a47cf9e9",
   "metadata": {},
   "outputs": [
    {
     "data": {
      "text/plain": [
       "0.24314493564633463"
      ]
     },
     "execution_count": 10,
     "metadata": {},
     "output_type": "execute_result"
    }
   ],
   "source": [
    "query_bounce_rate = numb_unclicked/numb_query\n",
    "query_bounce_rate"
   ]
  },
  {
   "cell_type": "code",
   "execution_count": 46,
   "id": "5c8be76e-d1d0-4232-853e-18385b2da305",
   "metadata": {},
   "outputs": [],
   "source": [
    "copy_data = data.copy()"
   ]
  },
  {
   "cell_type": "code",
   "execution_count": 47,
   "id": "51bc721d-aa13-4427-80d4-e64c32d5f8ba",
   "metadata": {},
   "outputs": [],
   "source": [
    "copy_data.loc[copy_data['action']=='click_post', 'numb_clicks'] = 1\n",
    "copy_data.loc[copy_data['action']=='load_post_page', 'numb_clicks'] = 0"
   ]
  },
  {
   "cell_type": "code",
   "execution_count": 48,
   "id": "f113c173-bd81-49dc-a181-5969001e9e3d",
   "metadata": {},
   "outputs": [],
   "source": [
    "copy_data['numb_ads'] = copy_data.loc[copy_data['action']=='load_post_page']['tokens'].apply(tok).apply(len)\n",
    "copy_data.loc[copy_data['action']=='click_post', 'numb_ads'] = 0"
   ]
  },
  {
   "cell_type": "code",
   "execution_count": 79,
   "id": "e7bea7c3-2988-4b92-90c4-6072004251df",
   "metadata": {},
   "outputs": [
    {
     "data": {
      "text/plain": [
       "numb_ads       56.213556\n",
       "numb_clicks     5.301903\n",
       "clicks_rate     0.062037\n",
       "dtype: float64"
      ]
     },
     "execution_count": 79,
     "metadata": {},
     "output_type": "execute_result"
    }
   ],
   "source": [
    "query_data = copy_data.groupby('source_event_id', as_index=False)[['numb_ads', 'numb_clicks']].agg(np.sum)\n",
    "query_data['clicks_rate'] = query_data['numb_clicks']/query_data['numb_ads']\n",
    "query_data.loc[query_data['numb_ads']==0, 'clicks_rate'] = 0\n",
    "query_data.aggregate(np.mean)"
   ]
  },
  {
   "cell_type": "code",
   "execution_count": 77,
   "id": "956a1972-5cb1-4e27-aea0-10348a87499b",
   "metadata": {},
   "outputs": [],
   "source": [
    "copy_data['created_at'] = copy_data['created_at'].apply(pd.Timestamp, unit='ms')"
   ]
  },
  {
   "cell_type": "code",
   "execution_count": 80,
   "id": "b2fb8c32-d77e-45a8-96c3-9652cdfa4dea",
   "metadata": {},
   "outputs": [],
   "source": [
    "temp_data = copy_data.loc[copy_data['action']=='click_post'].groupby('source_event_id', as_index=False)['created_at'].idxmin()\n",
    "click = copy_data.loc[temp_data['created_at'],:][['source_event_id','post_index_in_post_list']].reset_index()\n",
    "del click['index']\n",
    "click = click.rename(columns={'post_index_in_post_list':'first_click_index'})"
   ]
  },
  {
   "cell_type": "code",
   "execution_count": 81,
   "id": "2aba6665-c15a-4752-ad7e-0a46793ecdef",
   "metadata": {},
   "outputs": [
    {
     "data": {
      "text/html": [
       "<div>\n",
       "<style scoped>\n",
       "    .dataframe tbody tr th:only-of-type {\n",
       "        vertical-align: middle;\n",
       "    }\n",
       "\n",
       "    .dataframe tbody tr th {\n",
       "        vertical-align: top;\n",
       "    }\n",
       "\n",
       "    .dataframe thead th {\n",
       "        text-align: right;\n",
       "    }\n",
       "</style>\n",
       "<table border=\"1\" class=\"dataframe\">\n",
       "  <thead>\n",
       "    <tr style=\"text-align: right;\">\n",
       "      <th></th>\n",
       "      <th>source_event_id</th>\n",
       "      <th>numb_ads</th>\n",
       "      <th>numb_clicks</th>\n",
       "      <th>clicks_rate</th>\n",
       "      <th>first_click_index</th>\n",
       "    </tr>\n",
       "  </thead>\n",
       "  <tbody>\n",
       "    <tr>\n",
       "      <th>0</th>\n",
       "      <td>00049ef3-c027-4f55-869c-46711f0ea0ad</td>\n",
       "      <td>24.0</td>\n",
       "      <td>0.0</td>\n",
       "      <td>0.00000</td>\n",
       "      <td>NaN</td>\n",
       "    </tr>\n",
       "    <tr>\n",
       "      <th>1</th>\n",
       "      <td>00069dda-4175-4bb0-8ef0-c0e1031d4da6</td>\n",
       "      <td>24.0</td>\n",
       "      <td>0.0</td>\n",
       "      <td>0.00000</td>\n",
       "      <td>NaN</td>\n",
       "    </tr>\n",
       "    <tr>\n",
       "      <th>2</th>\n",
       "      <td>00142c59-745c-4004-a955-698ddcf1faa6</td>\n",
       "      <td>0.0</td>\n",
       "      <td>4.0</td>\n",
       "      <td>0.00000</td>\n",
       "      <td>7.0</td>\n",
       "    </tr>\n",
       "    <tr>\n",
       "      <th>3</th>\n",
       "      <td>0016f59f-9fb3-4ab5-ae78-9783314b81fc</td>\n",
       "      <td>0.0</td>\n",
       "      <td>10.0</td>\n",
       "      <td>0.00000</td>\n",
       "      <td>2.0</td>\n",
       "    </tr>\n",
       "    <tr>\n",
       "      <th>4</th>\n",
       "      <td>0017b9ef-5903-40f9-a219-85728eb78436</td>\n",
       "      <td>0.0</td>\n",
       "      <td>5.0</td>\n",
       "      <td>0.00000</td>\n",
       "      <td>5.0</td>\n",
       "    </tr>\n",
       "    <tr>\n",
       "      <th>...</th>\n",
       "      <td>...</td>\n",
       "      <td>...</td>\n",
       "      <td>...</td>\n",
       "      <td>...</td>\n",
       "      <td>...</td>\n",
       "    </tr>\n",
       "    <tr>\n",
       "      <th>14291</th>\n",
       "      <td>ffeaa17f-ee79-4f42-be58-afd60a5aef37</td>\n",
       "      <td>48.0</td>\n",
       "      <td>0.0</td>\n",
       "      <td>0.00000</td>\n",
       "      <td>NaN</td>\n",
       "    </tr>\n",
       "    <tr>\n",
       "      <th>14292</th>\n",
       "      <td>ffec4e11-c0a1-4fa4-8613-0979d6f46918</td>\n",
       "      <td>528.0</td>\n",
       "      <td>5.0</td>\n",
       "      <td>0.00947</td>\n",
       "      <td>100.0</td>\n",
       "    </tr>\n",
       "    <tr>\n",
       "      <th>14293</th>\n",
       "      <td>ffef31ea-cb4e-4d00-98ca-118df330cdca</td>\n",
       "      <td>0.0</td>\n",
       "      <td>2.0</td>\n",
       "      <td>0.00000</td>\n",
       "      <td>3.0</td>\n",
       "    </tr>\n",
       "    <tr>\n",
       "      <th>14294</th>\n",
       "      <td>ffef6048-9db0-4244-9750-3b530552f0ec</td>\n",
       "      <td>840.0</td>\n",
       "      <td>43.0</td>\n",
       "      <td>0.05119</td>\n",
       "      <td>1.0</td>\n",
       "    </tr>\n",
       "    <tr>\n",
       "      <th>14295</th>\n",
       "      <td>fffc83a5-3f35-4cfe-bb4d-e1b9bf709860</td>\n",
       "      <td>24.0</td>\n",
       "      <td>0.0</td>\n",
       "      <td>0.00000</td>\n",
       "      <td>NaN</td>\n",
       "    </tr>\n",
       "  </tbody>\n",
       "</table>\n",
       "<p>14296 rows × 5 columns</p>\n",
       "</div>"
      ],
      "text/plain": [
       "                            source_event_id  numb_ads  numb_clicks  \\\n",
       "0      00049ef3-c027-4f55-869c-46711f0ea0ad      24.0          0.0   \n",
       "1      00069dda-4175-4bb0-8ef0-c0e1031d4da6      24.0          0.0   \n",
       "2      00142c59-745c-4004-a955-698ddcf1faa6       0.0          4.0   \n",
       "3      0016f59f-9fb3-4ab5-ae78-9783314b81fc       0.0         10.0   \n",
       "4      0017b9ef-5903-40f9-a219-85728eb78436       0.0          5.0   \n",
       "...                                     ...       ...          ...   \n",
       "14291  ffeaa17f-ee79-4f42-be58-afd60a5aef37      48.0          0.0   \n",
       "14292  ffec4e11-c0a1-4fa4-8613-0979d6f46918     528.0          5.0   \n",
       "14293  ffef31ea-cb4e-4d00-98ca-118df330cdca       0.0          2.0   \n",
       "14294  ffef6048-9db0-4244-9750-3b530552f0ec     840.0         43.0   \n",
       "14295  fffc83a5-3f35-4cfe-bb4d-e1b9bf709860      24.0          0.0   \n",
       "\n",
       "       clicks_rate  first_click_index  \n",
       "0          0.00000                NaN  \n",
       "1          0.00000                NaN  \n",
       "2          0.00000                7.0  \n",
       "3          0.00000                2.0  \n",
       "4          0.00000                5.0  \n",
       "...            ...                ...  \n",
       "14291      0.00000                NaN  \n",
       "14292      0.00947              100.0  \n",
       "14293      0.00000                3.0  \n",
       "14294      0.05119                1.0  \n",
       "14295      0.00000                NaN  \n",
       "\n",
       "[14296 rows x 5 columns]"
      ]
     },
     "execution_count": 81,
     "metadata": {},
     "output_type": "execute_result"
    }
   ],
   "source": [
    "query_data = pd.merge(left = query_data, right = click, how='left')\n",
    "query_data"
   ]
  },
  {
   "cell_type": "code",
   "execution_count": 82,
   "id": "afacc39f-3101-4171-b058-b00f93f233e0",
   "metadata": {},
   "outputs": [
    {
     "data": {
      "text/html": [
       "<div>\n",
       "<style scoped>\n",
       "    .dataframe tbody tr th:only-of-type {\n",
       "        vertical-align: middle;\n",
       "    }\n",
       "\n",
       "    .dataframe tbody tr th {\n",
       "        vertical-align: top;\n",
       "    }\n",
       "\n",
       "    .dataframe thead th {\n",
       "        text-align: right;\n",
       "    }\n",
       "</style>\n",
       "<table border=\"1\" class=\"dataframe\">\n",
       "  <thead>\n",
       "    <tr style=\"text-align: right;\">\n",
       "      <th></th>\n",
       "      <th>source_event_id</th>\n",
       "      <th>numb_ads</th>\n",
       "      <th>numb_clicks</th>\n",
       "      <th>clicks_rate</th>\n",
       "      <th>first_click_index</th>\n",
       "      <th>avg_index_dist</th>\n",
       "    </tr>\n",
       "  </thead>\n",
       "  <tbody>\n",
       "    <tr>\n",
       "      <th>0</th>\n",
       "      <td>00049ef3-c027-4f55-869c-46711f0ea0ad</td>\n",
       "      <td>24.0</td>\n",
       "      <td>0.0</td>\n",
       "      <td>0.00000</td>\n",
       "      <td>NaN</td>\n",
       "      <td>NaN</td>\n",
       "    </tr>\n",
       "    <tr>\n",
       "      <th>1</th>\n",
       "      <td>00069dda-4175-4bb0-8ef0-c0e1031d4da6</td>\n",
       "      <td>24.0</td>\n",
       "      <td>0.0</td>\n",
       "      <td>0.00000</td>\n",
       "      <td>NaN</td>\n",
       "      <td>NaN</td>\n",
       "    </tr>\n",
       "    <tr>\n",
       "      <th>2</th>\n",
       "      <td>00142c59-745c-4004-a955-698ddcf1faa6</td>\n",
       "      <td>0.0</td>\n",
       "      <td>4.0</td>\n",
       "      <td>0.00000</td>\n",
       "      <td>7.0</td>\n",
       "      <td>45.25000</td>\n",
       "    </tr>\n",
       "    <tr>\n",
       "      <th>3</th>\n",
       "      <td>0016f59f-9fb3-4ab5-ae78-9783314b81fc</td>\n",
       "      <td>0.0</td>\n",
       "      <td>10.0</td>\n",
       "      <td>0.00000</td>\n",
       "      <td>2.0</td>\n",
       "      <td>2.30000</td>\n",
       "    </tr>\n",
       "    <tr>\n",
       "      <th>4</th>\n",
       "      <td>0017b9ef-5903-40f9-a219-85728eb78436</td>\n",
       "      <td>0.0</td>\n",
       "      <td>5.0</td>\n",
       "      <td>0.00000</td>\n",
       "      <td>5.0</td>\n",
       "      <td>3.80000</td>\n",
       "    </tr>\n",
       "    <tr>\n",
       "      <th>...</th>\n",
       "      <td>...</td>\n",
       "      <td>...</td>\n",
       "      <td>...</td>\n",
       "      <td>...</td>\n",
       "      <td>...</td>\n",
       "      <td>...</td>\n",
       "    </tr>\n",
       "    <tr>\n",
       "      <th>14291</th>\n",
       "      <td>ffeaa17f-ee79-4f42-be58-afd60a5aef37</td>\n",
       "      <td>48.0</td>\n",
       "      <td>0.0</td>\n",
       "      <td>0.00000</td>\n",
       "      <td>NaN</td>\n",
       "      <td>NaN</td>\n",
       "    </tr>\n",
       "    <tr>\n",
       "      <th>14292</th>\n",
       "      <td>ffec4e11-c0a1-4fa4-8613-0979d6f46918</td>\n",
       "      <td>528.0</td>\n",
       "      <td>5.0</td>\n",
       "      <td>0.00947</td>\n",
       "      <td>100.0</td>\n",
       "      <td>101.00000</td>\n",
       "    </tr>\n",
       "    <tr>\n",
       "      <th>14293</th>\n",
       "      <td>ffef31ea-cb4e-4d00-98ca-118df330cdca</td>\n",
       "      <td>0.0</td>\n",
       "      <td>2.0</td>\n",
       "      <td>0.00000</td>\n",
       "      <td>3.0</td>\n",
       "      <td>32.50000</td>\n",
       "    </tr>\n",
       "    <tr>\n",
       "      <th>14294</th>\n",
       "      <td>ffef6048-9db0-4244-9750-3b530552f0ec</td>\n",
       "      <td>840.0</td>\n",
       "      <td>43.0</td>\n",
       "      <td>0.05119</td>\n",
       "      <td>1.0</td>\n",
       "      <td>19.27907</td>\n",
       "    </tr>\n",
       "    <tr>\n",
       "      <th>14295</th>\n",
       "      <td>fffc83a5-3f35-4cfe-bb4d-e1b9bf709860</td>\n",
       "      <td>24.0</td>\n",
       "      <td>0.0</td>\n",
       "      <td>0.00000</td>\n",
       "      <td>NaN</td>\n",
       "      <td>NaN</td>\n",
       "    </tr>\n",
       "  </tbody>\n",
       "</table>\n",
       "<p>14296 rows × 6 columns</p>\n",
       "</div>"
      ],
      "text/plain": [
       "                            source_event_id  numb_ads  numb_clicks  \\\n",
       "0      00049ef3-c027-4f55-869c-46711f0ea0ad      24.0          0.0   \n",
       "1      00069dda-4175-4bb0-8ef0-c0e1031d4da6      24.0          0.0   \n",
       "2      00142c59-745c-4004-a955-698ddcf1faa6       0.0          4.0   \n",
       "3      0016f59f-9fb3-4ab5-ae78-9783314b81fc       0.0         10.0   \n",
       "4      0017b9ef-5903-40f9-a219-85728eb78436       0.0          5.0   \n",
       "...                                     ...       ...          ...   \n",
       "14291  ffeaa17f-ee79-4f42-be58-afd60a5aef37      48.0          0.0   \n",
       "14292  ffec4e11-c0a1-4fa4-8613-0979d6f46918     528.0          5.0   \n",
       "14293  ffef31ea-cb4e-4d00-98ca-118df330cdca       0.0          2.0   \n",
       "14294  ffef6048-9db0-4244-9750-3b530552f0ec     840.0         43.0   \n",
       "14295  fffc83a5-3f35-4cfe-bb4d-e1b9bf709860      24.0          0.0   \n",
       "\n",
       "       clicks_rate  first_click_index  avg_index_dist  \n",
       "0          0.00000                NaN             NaN  \n",
       "1          0.00000                NaN             NaN  \n",
       "2          0.00000                7.0        45.25000  \n",
       "3          0.00000                2.0         2.30000  \n",
       "4          0.00000                5.0         3.80000  \n",
       "...            ...                ...             ...  \n",
       "14291      0.00000                NaN             NaN  \n",
       "14292      0.00947              100.0       101.00000  \n",
       "14293      0.00000                3.0        32.50000  \n",
       "14294      0.05119                1.0        19.27907  \n",
       "14295      0.00000                NaN             NaN  \n",
       "\n",
       "[14296 rows x 6 columns]"
      ]
     },
     "execution_count": 82,
     "metadata": {},
     "output_type": "execute_result"
    }
   ],
   "source": [
    "temp_data1 = copy_data[copy_data['action']=='click_post'].groupby('source_event_id', as_index=False)['post_index_in_post_list'].agg('count')\n",
    "temp_data1 = temp_data1.rename(columns={'post_index_in_post_list': 'count'})\n",
    "temp_data2 = copy_data[copy_data['action']=='click_post'].groupby('source_event_id', as_index=False)['post_index_in_post_list'].agg('max')\n",
    "temp_data = pd.merge(left=temp_data1, right=temp_data2, how=\"left\")\n",
    "temp_data['avg_index_dist'] = temp_data['post_index_in_post_list']/temp_data['count']\n",
    "del temp_data['count']\n",
    "del temp_data['post_index_in_post_list']\n",
    "query_data = pd.merge(left = query_data, right = temp_data, how='left')\n",
    "query_data"
   ]
  },
  {
   "cell_type": "code",
   "execution_count": 83,
   "id": "9dd97a60-f2a9-412f-a830-92fb0d6a8f99",
   "metadata": {},
   "outputs": [
    {
     "data": {
      "text/html": [
       "<div>\n",
       "<style scoped>\n",
       "    .dataframe tbody tr th:only-of-type {\n",
       "        vertical-align: middle;\n",
       "    }\n",
       "\n",
       "    .dataframe tbody tr th {\n",
       "        vertical-align: top;\n",
       "    }\n",
       "\n",
       "    .dataframe thead th {\n",
       "        text-align: right;\n",
       "    }\n",
       "</style>\n",
       "<table border=\"1\" class=\"dataframe\">\n",
       "  <thead>\n",
       "    <tr style=\"text-align: right;\">\n",
       "      <th></th>\n",
       "      <th>source_event_id</th>\n",
       "      <th>numb_ads</th>\n",
       "      <th>numb_clicks</th>\n",
       "      <th>clicks_rate</th>\n",
       "      <th>first_click_index</th>\n",
       "      <th>avg_index_dist</th>\n",
       "      <th>first_three_ads</th>\n",
       "    </tr>\n",
       "  </thead>\n",
       "  <tbody>\n",
       "    <tr>\n",
       "      <th>0</th>\n",
       "      <td>00049ef3-c027-4f55-869c-46711f0ea0ad</td>\n",
       "      <td>24.0</td>\n",
       "      <td>0.0</td>\n",
       "      <td>0.00000</td>\n",
       "      <td>NaN</td>\n",
       "      <td>NaN</td>\n",
       "      <td>0</td>\n",
       "    </tr>\n",
       "    <tr>\n",
       "      <th>1</th>\n",
       "      <td>00069dda-4175-4bb0-8ef0-c0e1031d4da6</td>\n",
       "      <td>24.0</td>\n",
       "      <td>0.0</td>\n",
       "      <td>0.00000</td>\n",
       "      <td>NaN</td>\n",
       "      <td>NaN</td>\n",
       "      <td>0</td>\n",
       "    </tr>\n",
       "    <tr>\n",
       "      <th>2</th>\n",
       "      <td>00142c59-745c-4004-a955-698ddcf1faa6</td>\n",
       "      <td>0.0</td>\n",
       "      <td>4.0</td>\n",
       "      <td>0.00000</td>\n",
       "      <td>7.0</td>\n",
       "      <td>45.25000</td>\n",
       "      <td>0</td>\n",
       "    </tr>\n",
       "    <tr>\n",
       "      <th>3</th>\n",
       "      <td>0016f59f-9fb3-4ab5-ae78-9783314b81fc</td>\n",
       "      <td>0.0</td>\n",
       "      <td>10.0</td>\n",
       "      <td>0.00000</td>\n",
       "      <td>2.0</td>\n",
       "      <td>2.30000</td>\n",
       "      <td>1</td>\n",
       "    </tr>\n",
       "    <tr>\n",
       "      <th>4</th>\n",
       "      <td>0017b9ef-5903-40f9-a219-85728eb78436</td>\n",
       "      <td>0.0</td>\n",
       "      <td>5.0</td>\n",
       "      <td>0.00000</td>\n",
       "      <td>5.0</td>\n",
       "      <td>3.80000</td>\n",
       "      <td>0</td>\n",
       "    </tr>\n",
       "    <tr>\n",
       "      <th>...</th>\n",
       "      <td>...</td>\n",
       "      <td>...</td>\n",
       "      <td>...</td>\n",
       "      <td>...</td>\n",
       "      <td>...</td>\n",
       "      <td>...</td>\n",
       "      <td>...</td>\n",
       "    </tr>\n",
       "    <tr>\n",
       "      <th>14291</th>\n",
       "      <td>ffeaa17f-ee79-4f42-be58-afd60a5aef37</td>\n",
       "      <td>48.0</td>\n",
       "      <td>0.0</td>\n",
       "      <td>0.00000</td>\n",
       "      <td>NaN</td>\n",
       "      <td>NaN</td>\n",
       "      <td>0</td>\n",
       "    </tr>\n",
       "    <tr>\n",
       "      <th>14292</th>\n",
       "      <td>ffec4e11-c0a1-4fa4-8613-0979d6f46918</td>\n",
       "      <td>528.0</td>\n",
       "      <td>5.0</td>\n",
       "      <td>0.00947</td>\n",
       "      <td>100.0</td>\n",
       "      <td>101.00000</td>\n",
       "      <td>0</td>\n",
       "    </tr>\n",
       "    <tr>\n",
       "      <th>14293</th>\n",
       "      <td>ffef31ea-cb4e-4d00-98ca-118df330cdca</td>\n",
       "      <td>0.0</td>\n",
       "      <td>2.0</td>\n",
       "      <td>0.00000</td>\n",
       "      <td>3.0</td>\n",
       "      <td>32.50000</td>\n",
       "      <td>1</td>\n",
       "    </tr>\n",
       "    <tr>\n",
       "      <th>14294</th>\n",
       "      <td>ffef6048-9db0-4244-9750-3b530552f0ec</td>\n",
       "      <td>840.0</td>\n",
       "      <td>43.0</td>\n",
       "      <td>0.05119</td>\n",
       "      <td>1.0</td>\n",
       "      <td>19.27907</td>\n",
       "      <td>1</td>\n",
       "    </tr>\n",
       "    <tr>\n",
       "      <th>14295</th>\n",
       "      <td>fffc83a5-3f35-4cfe-bb4d-e1b9bf709860</td>\n",
       "      <td>24.0</td>\n",
       "      <td>0.0</td>\n",
       "      <td>0.00000</td>\n",
       "      <td>NaN</td>\n",
       "      <td>NaN</td>\n",
       "      <td>0</td>\n",
       "    </tr>\n",
       "  </tbody>\n",
       "</table>\n",
       "<p>14296 rows × 7 columns</p>\n",
       "</div>"
      ],
      "text/plain": [
       "                            source_event_id  numb_ads  numb_clicks  \\\n",
       "0      00049ef3-c027-4f55-869c-46711f0ea0ad      24.0          0.0   \n",
       "1      00069dda-4175-4bb0-8ef0-c0e1031d4da6      24.0          0.0   \n",
       "2      00142c59-745c-4004-a955-698ddcf1faa6       0.0          4.0   \n",
       "3      0016f59f-9fb3-4ab5-ae78-9783314b81fc       0.0         10.0   \n",
       "4      0017b9ef-5903-40f9-a219-85728eb78436       0.0          5.0   \n",
       "...                                     ...       ...          ...   \n",
       "14291  ffeaa17f-ee79-4f42-be58-afd60a5aef37      48.0          0.0   \n",
       "14292  ffec4e11-c0a1-4fa4-8613-0979d6f46918     528.0          5.0   \n",
       "14293  ffef31ea-cb4e-4d00-98ca-118df330cdca       0.0          2.0   \n",
       "14294  ffef6048-9db0-4244-9750-3b530552f0ec     840.0         43.0   \n",
       "14295  fffc83a5-3f35-4cfe-bb4d-e1b9bf709860      24.0          0.0   \n",
       "\n",
       "       clicks_rate  first_click_index  avg_index_dist  first_three_ads  \n",
       "0          0.00000                NaN             NaN                0  \n",
       "1          0.00000                NaN             NaN                0  \n",
       "2          0.00000                7.0        45.25000                0  \n",
       "3          0.00000                2.0         2.30000                1  \n",
       "4          0.00000                5.0         3.80000                0  \n",
       "...            ...                ...             ...              ...  \n",
       "14291      0.00000                NaN             NaN                0  \n",
       "14292      0.00947              100.0       101.00000                0  \n",
       "14293      0.00000                3.0        32.50000                1  \n",
       "14294      0.05119                1.0        19.27907                1  \n",
       "14295      0.00000                NaN             NaN                0  \n",
       "\n",
       "[14296 rows x 7 columns]"
      ]
     },
     "execution_count": 83,
     "metadata": {},
     "output_type": "execute_result"
    }
   ],
   "source": [
    "temp_data = data.groupby('source_event_id', as_index=False)['post_index_in_post_list'].agg(np.min)\n",
    "condition = temp_data['post_index_in_post_list']<4\n",
    "temp_data['first_three_ads'] = np.where(condition,1,0)\n",
    "del temp_data['post_index_in_post_list']\n",
    "query_data = pd.merge(left = query_data, right = temp_data, how='left')\n",
    "query_data"
   ]
  },
  {
   "cell_type": "code",
   "execution_count": 84,
   "id": "32c8cffe-01ad-48f5-b9c5-a31e3ef49e9a",
   "metadata": {},
   "outputs": [
    {
     "data": {
      "text/plain": [
       "numb_ads             56.213556\n",
       "numb_clicks           5.301903\n",
       "clicks_rate           0.062037\n",
       "first_click_index    26.658595\n",
       "avg_index_dist       15.366037\n",
       "first_three_ads       0.354085\n",
       "dtype: float64"
      ]
     },
     "execution_count": 84,
     "metadata": {},
     "output_type": "execute_result"
    }
   ],
   "source": [
    "query_data.aggregate(np.mean)"
   ]
  }
 ],
 "metadata": {
  "kernelspec": {
   "display_name": "Python 3",
   "language": "python",
   "name": "python3"
  },
  "language_info": {
   "codemirror_mode": {
    "name": "ipython",
    "version": 3
   },
   "file_extension": ".py",
   "mimetype": "text/x-python",
   "name": "python",
   "nbconvert_exporter": "python",
   "pygments_lexer": "ipython3",
   "version": "3.8.8"
  }
 },
 "nbformat": 4,
 "nbformat_minor": 5
}
